{
 "cells": [
  {
   "cell_type": "markdown",
   "id": "68fbb4c9",
   "metadata": {},
   "source": [
    "### Importing packages:"
   ]
  },
  {
   "cell_type": "code",
   "execution_count": 2,
   "id": "0e4c78d9",
   "metadata": {},
   "outputs": [],
   "source": [
    "import matplotlib.pyplot as plt\n",
    "import numpy as np\n",
    "import sympy as sp \n",
    "import seaborn as sb\n",
    "import math\n",
    "import random\n",
    "import scipy as sp\n",
    "from scipy.integrate import quad"
   ]
  },
  {
   "cell_type": "markdown",
   "id": "d4cd43f5",
   "metadata": {},
   "source": [
    "-------------------------------------------------------------------------------------------------------------------------------"
   ]
  },
  {
   "cell_type": "markdown",
   "id": "1516729d",
   "metadata": {},
   "source": [
    "### Choosing non-linear function and defining its formula: "
   ]
  },
  {
   "cell_type": "code",
   "execution_count": 3,
   "id": "c3770797",
   "metadata": {},
   "outputs": [],
   "source": [
    "def f(x):\n",
    "    return ((1)/(x**3+1))\n",
    "f2 = np.vectorize(f) #I vectorize function in case it's trigonometrical, for example sinus or cosinus"
   ]
  },
  {
   "cell_type": "markdown",
   "id": "85095497",
   "metadata": {},
   "source": [
    "-------------------------------------------------------------------------------------------------------------------------------"
   ]
  },
  {
   "cell_type": "markdown",
   "id": "5c3ac1b0",
   "metadata": {},
   "source": [
    "### Creating function that generates random number in range [1,25]:"
   ]
  },
  {
   "cell_type": "code",
   "execution_count": 4,
   "id": "799e4253",
   "metadata": {},
   "outputs": [],
   "source": [
    "def random_number_generator():\n",
    "    return random.randint(1, 26)"
   ]
  },
  {
   "cell_type": "markdown",
   "id": "7dc3ac18",
   "metadata": {},
   "source": [
    "-------------------------------------------------------------------------------------------------------------------------------"
   ]
  },
  {
   "cell_type": "markdown",
   "id": "434fe828",
   "metadata": {},
   "source": [
    "### Generating random integer number in range [1,25]:"
   ]
  },
  {
   "cell_type": "code",
   "execution_count": 5,
   "id": "2191874b",
   "metadata": {},
   "outputs": [],
   "source": [
    "interval_number = random_number_generator()"
   ]
  },
  {
   "cell_type": "markdown",
   "id": "61510159",
   "metadata": {},
   "source": [
    "-------------------------------------------------------------------------------------------------------------------------------"
   ]
  },
  {
   "cell_type": "markdown",
   "id": "0f0fb3b3",
   "metadata": {},
   "source": [
    "### Finding length of a interval:"
   ]
  },
  {
   "cell_type": "code",
   "execution_count": 6,
   "id": "aa3d3cb1",
   "metadata": {},
   "outputs": [],
   "source": [
    "gap = 5 / interval_number"
   ]
  },
  {
   "cell_type": "markdown",
   "id": "fff4d045",
   "metadata": {},
   "source": [
    "-------------------------------------------------------------------------------------------------------------------------------"
   ]
  },
  {
   "cell_type": "markdown",
   "id": "204d7187",
   "metadata": {},
   "source": [
    "### Finding x arguments and its values at the start and end of the interval: "
   ]
  },
  {
   "cell_type": "markdown",
   "id": "532989c8",
   "metadata": {},
   "source": [
    "#### Start arguments and values: "
   ]
  },
  {
   "cell_type": "code",
   "execution_count": 7,
   "id": "7e8e5750",
   "metadata": {},
   "outputs": [],
   "source": [
    "x_bar_start = np.arange(0, 5 , gap)"
   ]
  },
  {
   "cell_type": "code",
   "execution_count": 8,
   "id": "251c891b",
   "metadata": {},
   "outputs": [],
   "source": [
    "def values(arguments, function):\n",
    "    '''Function that returns table of values when table of arguments and support function are given'''\n",
    "    values_table = []\n",
    "    for x in arguments:\n",
    "        values_table.append(function(x))\n",
    "    return values_table"
   ]
  },
  {
   "cell_type": "code",
   "execution_count": 9,
   "id": "319624c5",
   "metadata": {},
   "outputs": [],
   "source": [
    "y_bar_start = values(x_bar_start, f)"
   ]
  },
  {
   "cell_type": "markdown",
   "id": "65393eaa",
   "metadata": {},
   "source": [
    "#### End arguments and values:"
   ]
  },
  {
   "cell_type": "code",
   "execution_count": 10,
   "id": "d2b65f82",
   "metadata": {},
   "outputs": [],
   "source": [
    "x_bar_end = [x + gap for x in x_bar_start]\n",
    "y_bar_end = values(x_bar_end, f)"
   ]
  },
  {
   "cell_type": "markdown",
   "id": "0423a99b",
   "metadata": {},
   "source": [
    "-------------------------------------------------------------------------------------------------------------------------------"
   ]
  },
  {
   "cell_type": "markdown",
   "id": "8a37accd",
   "metadata": {},
   "source": [
    "### Computing integral:"
   ]
  },
  {
   "cell_type": "code",
   "execution_count": 11,
   "id": "31960130",
   "metadata": {},
   "outputs": [],
   "source": [
    "res, err = quad(f, 0, 5)"
   ]
  },
  {
   "cell_type": "markdown",
   "id": "aae6882e",
   "metadata": {},
   "source": [
    "-------------------------------------------------------------------------------------------------------------------------------"
   ]
  },
  {
   "cell_type": "markdown",
   "id": "e288ec32",
   "metadata": {},
   "source": [
    "### Creating function that returns area of the rectangles:"
   ]
  },
  {
   "cell_type": "code",
   "execution_count": 12,
   "id": "905e122f",
   "metadata": {},
   "outputs": [],
   "source": [
    "def area_counter(a, b):\n",
    "    sum_area = 0\n",
    "    for i in b:\n",
    "        sum_area += (a * i)\n",
    "    return sum_area"
   ]
  },
  {
   "cell_type": "markdown",
   "id": "a1048d0c",
   "metadata": {},
   "source": [
    "#### Sum 1"
   ]
  },
  {
   "cell_type": "code",
   "execution_count": 13,
   "id": "4d067d85",
   "metadata": {},
   "outputs": [
    {
     "name": "stdout",
     "output_type": "stream",
     "text": [
      "1.3269699111987814\n"
     ]
    }
   ],
   "source": [
    "sum1 = area_counter(gap, y_bar_start)\n",
    "print(sum1)"
   ]
  },
  {
   "cell_type": "markdown",
   "id": "c0b8f4d0",
   "metadata": {},
   "source": [
    "#### Sum 2"
   ]
  },
  {
   "cell_type": "code",
   "execution_count": 14,
   "id": "888e8045",
   "metadata": {},
   "outputs": [
    {
     "name": "stdout",
     "output_type": "stream",
     "text": [
      "1.0513967189589228\n"
     ]
    }
   ],
   "source": [
    "sum2 = area_counter(gap, y_bar_end)\n",
    "print(sum2)"
   ]
  },
  {
   "cell_type": "markdown",
   "id": "12e0f47c",
   "metadata": {},
   "source": [
    "-------------------------------------------------------------------------------------------------------------------------------"
   ]
  },
  {
   "cell_type": "markdown",
   "id": "c4661f11",
   "metadata": {},
   "source": [
    "### Auxiliary data :"
   ]
  },
  {
   "cell_type": "code",
   "execution_count": 18,
   "id": "b4d5be64",
   "metadata": {},
   "outputs": [],
   "source": [
    "add_data = (interval_number, res)\n",
    "main_title = 'Number of intervals: {} \\n Area \\u2248 {:.3f}'.format(*add_data)\n",
    "sub1 = 'Sum I \\u2248 {:.3f}'.format(sum1)\n",
    "sub3 = 'Sum II \\u2248 {:.3f}'.format(sum2)"
   ]
  },
  {
   "cell_type": "markdown",
   "id": "5fdfb288",
   "metadata": {},
   "source": [
    "------------------------------------------------------------------------------------------------------------------------------"
   ]
  },
  {
   "cell_type": "markdown",
   "id": "4e67d3ed",
   "metadata": {},
   "source": [
    "### Creating subplots with the same range on OX: "
   ]
  },
  {
   "cell_type": "code",
   "execution_count": 19,
   "id": "f5babf8e",
   "metadata": {},
   "outputs": [
    {
     "data": {
      "image/png": "[encoded data removed]",
      "text/plain": [
       "<Figure size 1800x800 with 3 Axes>"
      ]
     },
     "metadata": {},
     "output_type": "display_data"
    }
   ],
   "source": [
    "x = np.arange(0, 5.1, 0.1)  # Defining domain and set of values\n",
    "y = f2(x)\n",
    "\n",
    "\n",
    "\n",
    "fig, (ax0, ax1, ax2) = plt.subplots(nrows=1, ncols=3, sharex=True, # Creating subplots and defining figsize:\n",
    "                                    figsize=(18, 8))\n",
    "\n",
    "\n",
    "\n",
    "\n",
    "plt.rcParams['axes.xmargin'] = 0  #Setting margins on 0, so there is no gap at the start of OX:\n",
    "\n",
    "\n",
    "\n",
    "\n",
    "\n",
    "#SUBPLOT 1:\n",
    "ax0.set_title(sub1, fontname=\"Arial\", fontsize = 14) #subplot title\n",
    "ax0.errorbar(x, y, errorevery=6, color = \"#7d3ac1\", linewidth = 3) #f(x) function \n",
    "ax0.bar(x_bar_start, y_bar_start, facecolor='#DDECC1', width =gap, edgecolor = \"#A2B67E\", align='edge' , linewidth = 1.5)\n",
    "ax0.scatter(x_bar_start, y_bar_start, zorder = 3, color = \"#AAEA33\", edgecolors = '#319D2C', s=50)\n",
    "ax0.set_ylim([0, 1.1]) #setting limit of OY\n",
    "ax0.set_xlim([-0.05, 5.1]) #setting limit of OX\n",
    "ax0.set_facecolor('#F9F6EE')\n",
    "\n",
    "for axis in ['top', 'bottom', 'left', 'right']:\n",
    "\n",
    "    ax2.spines[axis].set_linewidth(1)\n",
    "\n",
    "\n",
    "\n",
    "#SUBPLOT 2:\n",
    "ax1.errorbar(x, y, errorevery=6, color = \"#7d3ac1\", linewidth = 3) #f(x) function \n",
    "ax1.fill_between(x, y, color = '#EEC3FE') #filling the area under the function with color\n",
    "ax1.text(0.6, 0.9, '$f(x)=1/(x^3+1)$', horizontalalignment='center',\n",
    "     verticalalignment='center', transform=ax1.transAxes, fontsize = 14)    #adding text\n",
    "ax1.set_ylim([0, 1.1]) #setting limit of OY\n",
    "ax1.set_xlim([-0.05, 5.1]) #setting limit of OX\n",
    "ax1.set_facecolor('#F9F6EE')\n",
    "\n",
    "for axis in ['top', 'bottom', 'left', 'right']:\n",
    "\n",
    "    ax2.spines[axis].set_linewidth(1)\n",
    "\n",
    "\n",
    "\n",
    "\n",
    "#SUBPLOT 3:\n",
    "ax2.set_title(sub3, fontname=\"Arial\", fontsize = 14) #title\n",
    "ax2.errorbar(x, y, errorevery=6, color = \"#7d3ac1\", linewidth = 3) #f(x) function \n",
    "ax2.set_ylim([0, 1.1]) #setting limit of OY\n",
    "ax2.set_xlim([-0.05, 5.1]) #setting limit of OX\n",
    "ax2.bar(x_bar_start, y_bar_end, facecolor='#DDECC1', width =gap, edgecolor = \"#A2B67E\",align='edge', linewidth = 1.5)\n",
    "ax2.scatter(x_bar_end, y_bar_end, zorder = 3, color = \"#AAEA33\", edgecolors = '#319D2C', s=50)\n",
    "ax2.set_facecolor('#F9F6EE')\n",
    "\n",
    "\n",
    "for axis in ['top', 'bottom', 'left', 'right']:\n",
    "\n",
    "    ax2.spines[axis].set_linewidth(1)\n",
    "\n",
    "\n",
    "fig.suptitle(main_title, fontsize = 17, fontname=\"Arial\")\n",
    "#plt.savefig('integrals.pdf')\n",
    "plt.show()\n"
   ]
  }
 ],
 "metadata": {
  "kernelspec": {
   "display_name": "Python 3 (ipykernel)",
   "language": "python",
   "name": "python3"
  },
  "language_info": {
   "codemirror_mode": {
    "name": "ipython",
    "version": 3
   },
   "file_extension": ".py",
   "mimetype": "text/x-python",
   "name": "python",
   "nbconvert_exporter": "python",
   "pygments_lexer": "ipython3",
   "version": "3.10.8"
  }
 },
 "nbformat": 4,
 "nbformat_minor": 5
}
