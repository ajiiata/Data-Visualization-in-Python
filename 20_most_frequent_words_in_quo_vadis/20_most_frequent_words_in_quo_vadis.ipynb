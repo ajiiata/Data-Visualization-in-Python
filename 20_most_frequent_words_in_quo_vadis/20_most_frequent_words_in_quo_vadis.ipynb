{
 "cells": [
  {
   "cell_type": "markdown",
   "id": "81003ad6",
   "metadata": {},
   "source": [
    "## We open the file and read the words from it:"
   ]
  },
  {
   "cell_type": "code",
   "execution_count": 1,
   "id": "4be8bd75",
   "metadata": {},
   "outputs": [],
   "source": [
    "with open (\"quo_vadis.txt\", 'r', encoding='utf-8') as f:\n",
    "    text = f.read().split()"
   ]
  },
  {
   "cell_type": "markdown",
   "id": "cec71bcc",
   "metadata": {},
   "source": [
    "## Data about the book:"
   ]
  },
  {
   "cell_type": "code",
   "execution_count": 2,
   "id": "cd424695",
   "metadata": {},
   "outputs": [],
   "source": [
    "title = \"Quo vadis\"\n",
    "author = \"Henryk Sienkewicz\""
   ]
  },
  {
   "cell_type": "markdown",
   "id": "f9321c14",
   "metadata": {},
   "source": [
    "## We get rid of punctuations:"
   ]
  },
  {
   "cell_type": "code",
   "execution_count": 4,
   "id": "3c9ccb27",
   "metadata": {},
   "outputs": [],
   "source": [
    "def remove_punc(string):\n",
    "    punc = '''!()-[]{};:'\"\\, <>./?@#$%^&*_~—...'''\n",
    "    for element in string:  \n",
    "        if element in punc:  \n",
    "            string = string.replace(element, \"\") \n",
    "    return string"
   ]
  },
  {
   "cell_type": "code",
   "execution_count": 6,
   "id": "86754207",
   "metadata": {},
   "outputs": [],
   "source": [
    "new_text = [remove_punc(i) for i in text] #text without punctuations"
   ]
  },
  {
   "cell_type": "markdown",
   "id": "d81257ed",
   "metadata": {},
   "source": [
    "## Number of words in text:"
   ]
  },
  {
   "cell_type": "code",
   "execution_count": 8,
   "id": "40293203",
   "metadata": {},
   "outputs": [],
   "source": [
    "number_of_words = len(new_text)"
   ]
  },
  {
   "cell_type": "markdown",
   "id": "fdfb05f1",
   "metadata": {},
   "source": [
    "## We make all leters lowercase: "
   ]
  },
  {
   "cell_type": "code",
   "execution_count": 9,
   "id": "44d6d37e",
   "metadata": {},
   "outputs": [],
   "source": [
    "clean_text = list(map(lambda x: x.lower(), new_text))"
   ]
  },
  {
   "cell_type": "markdown",
   "id": "f110da3f",
   "metadata": {},
   "source": [
    "## We limit word's length, so that the given word nust have min 5 letters:"
   ]
  },
  {
   "cell_type": "code",
   "execution_count": 10,
   "id": "f4d58ca6",
   "metadata": {},
   "outputs": [],
   "source": [
    "clean_text_min5 = []\n",
    "for word in clean_text:\n",
    "    if len(word) >= 5:\n",
    "        clean_text_min5.append(word)      "
   ]
  },
  {
   "cell_type": "code",
   "execution_count": 11,
   "id": "85899c06",
   "metadata": {},
   "outputs": [],
   "source": [
    "from collections import Counter"
   ]
  },
  {
   "cell_type": "code",
   "execution_count": 12,
   "id": "a37a4ffe",
   "metadata": {},
   "outputs": [],
   "source": [
    "clean_text1 = Counter(clean_text_min5)"
   ]
  },
  {
   "cell_type": "code",
   "execution_count": 13,
   "id": "8e4c2133",
   "metadata": {},
   "outputs": [],
   "source": [
    "clean_text2 = list(clean_text1.most_common(20))"
   ]
  },
  {
   "cell_type": "code",
   "execution_count": 14,
   "id": "dfa58b4b",
   "metadata": {},
   "outputs": [
    {
     "name": "stdout",
     "output_type": "stream",
     "text": [
      "[('winicjusz', 611), ('rzekł', 538), ('tylko', 496), ('który', 489), ('jeszcze', 473), ('przez', 444), ('petroniusz', 421), ('jednak', 357), ('sobie', 354), ('począł', 307), ('chwili', 301), ('nawet', 292), ('jakby', 289), ('teraz', 285), ('panie', 275), ('przed', 273), ('jeśli', 261), ('których', 261), ('niego', 260), ('cezara', 260)]\n"
     ]
    }
   ],
   "source": [
    "print(clean_text2)"
   ]
  },
  {
   "cell_type": "markdown",
   "id": "5da26a6f",
   "metadata": {},
   "source": [
    "## We separate arguments and its values:"
   ]
  },
  {
   "cell_type": "code",
   "execution_count": 17,
   "id": "cd278647",
   "metadata": {},
   "outputs": [],
   "source": [
    "word, freq = zip(*clean_text2)"
   ]
  },
  {
   "cell_type": "markdown",
   "id": "796b910c",
   "metadata": {},
   "source": [
    "## We change tuples to lists: "
   ]
  },
  {
   "cell_type": "code",
   "execution_count": 19,
   "id": "01d7f1e5",
   "metadata": {},
   "outputs": [],
   "source": [
    "word_ll = list(word)\n",
    "freq_l = sorted(list(freq))\n",
    "word_l = word_ll[::-1]"
   ]
  },
  {
   "cell_type": "markdown",
   "id": "54b221af",
   "metadata": {},
   "source": [
    "## Our color palette: "
   ]
  },
  {
   "cell_type": "code",
   "execution_count": 20,
   "id": "d709bc4e",
   "metadata": {},
   "outputs": [],
   "source": [
    "import seaborn as sns\n",
    "import matplotlib.pyplot as plt\n",
    "import numpy as np\n",
    "\n",
    "number_of_colors = 0\n",
    "\n",
    "palette = sns.color_palette(\"cividis_r\", len(word_l)).as_hex()\n"
   ]
  },
  {
   "cell_type": "markdown",
   "id": "70b61135",
   "metadata": {},
   "source": [
    "## We check if any words are in the text the same amount of times and adjust the colors:\n"
   ]
  },
  {
   "cell_type": "code",
   "execution_count": 22,
   "id": "7594365b",
   "metadata": {},
   "outputs": [],
   "source": [
    "def color_replacer(any_list, list_of_colours):\n",
    "    if len(any_list) == len(list_of_colours):\n",
    "        for a in range(0, len(any_list)-1):\n",
    "            if any_list[a] == any_list[a + 1]:\n",
    "                list_of_colours[a+1] = list_of_colours[a]\n",
    "        return list_of_colours\n",
    "    else:\n",
    "        return print(\"Compatibility error\")\n",
    "final_palette = color_replacer(freq_l, palette)"
   ]
  },
  {
   "cell_type": "markdown",
   "id": "e1c109c1",
   "metadata": {},
   "source": [
    "## We create horizontal barplot: "
   ]
  },
  {
   "cell_type": "code",
   "execution_count": 29,
   "id": "5c41f4be",
   "metadata": {},
   "outputs": [
    {
     "data": {
      "text/plain": [
       "<Figure size 800x500 with 0 Axes>"
      ]
     },
     "metadata": {},
     "output_type": "display_data"
    },
    {
     "data": {
      "image/png": "[encoded data removed]",
      "text/plain": [
       "<Figure size 800x500 with 1 Axes>"
      ]
     },
     "metadata": {},
     "output_type": "display_data"
    }
   ],
   "source": [
    "plt.rcParams[\"figure.figsize\"] = (8,5)\n",
    "fig = plt.figure()\n",
    "\n",
    "\n",
    "\n",
    "fig, ax = plt.subplots()\n",
    "\n",
    "bars = ax.barh(word_l, freq_l, color = final_palette,height=0.75)\n",
    "\n",
    "\n",
    "\n",
    "\n",
    "hfont = {'fontname':'Calibri'}\n",
    "\n",
    "\n",
    "\n",
    "\n",
    "\n",
    "plt.title(label = f'{author}, \"{title}\" ({number_of_words} words). \\n 20 most frequent words with length at least 5 letters',\n",
    "          fontsize = 15,\n",
    "          fontweight = 'bold',\n",
    "         color = 'navy',\n",
    "         **hfont)\n",
    "\n",
    "plt.ylabel('Given word',color = 'navy', fontsize = 12, fontweight = 'bold')\n",
    "\n",
    "\n",
    "\n",
    "for bars in ax.containers:\n",
    "   ax.bar_label(bars, color = 'white', label_type='center', fontweight='bold', fontsize = 8)\n",
    "\n",
    "\n",
    "ax.set_facecolor('floralwhite')\n",
    "ax.grid(False)\n",
    "\n",
    "\n",
    "\n",
    "ax.spines['top'].set_visible(False)\n",
    "ax.spines['right'].set_visible(False)\n",
    "ax.spines['left'].set_visible(False)\n",
    "ax.spines['bottom'].set_visible(True)\n",
    "\n",
    "ax.spines['bottom'].set_color('navy')\n",
    "\n",
    "\n",
    "             \n",
    "ax.tick_params(axis='x', colors='navy')      \n",
    "plt.yticks(fontname = \"Calibri\", color = 'navy', fontsize = 10, fontweight = 'bold')\n",
    "\n",
    "\n",
    "\n",
    "\n",
    "ax.tick_params(axis='y', which='both',length=0, color = 'navy') \n",
    "    \n",
    "#plt.savefig(\"20_the_most_ferquent_words_in_quo_vadis.pdf\")\n",
    "\n",
    "plt.show()"
   ]
  }
 ],
 "metadata": {
  "kernelspec": {
   "display_name": "Python 3 (ipykernel)",
   "language": "python",
   "name": "python3"
  },
  "language_info": {
   "codemirror_mode": {
    "name": "ipython",
    "version": 3
   },
   "file_extension": ".py",
   "mimetype": "text/x-python",
   "name": "python",
   "nbconvert_exporter": "python",
   "pygments_lexer": "ipython3",
   "version": "3.10.8"
  }
 },
 "nbformat": 4,
 "nbformat_minor": 5
}
